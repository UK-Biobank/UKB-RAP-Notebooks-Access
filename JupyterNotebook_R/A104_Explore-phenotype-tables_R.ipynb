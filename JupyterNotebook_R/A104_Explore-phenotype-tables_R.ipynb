{
 "cells": [
  {
   "cell_type": "markdown",
   "metadata": {},
   "source": [
    "# Explore phenotype tables and data in R with a reticulate package\n",
    "\n",
    "> Scope: This notebook shows how to explore participant table metadata in R.\n",
    "\n",
    "Run info: \n",
    "- runtime: 15min \n",
    "- recommended instance: mem1_ssd1_v2_x8\n",
    "- estimated cost: <£0.20\n",
    "\n",
    "This notebook depends on:\n",
    "* **NA**\n",
    "\n",
    "This notebook describes the basics of connecting to phenotype databases and exploring tables and fields.\n",
    "We will use a `reticulate` R package to connect to Python and call `dxdata.connect` function. \n",
    "Next, we will learn how to convert a Python (data frames) object to an R object (tibble) and work with them using `dplyr` package.\n",
    "We will browse available tables to get a short description of each table. \n",
    "Finally, we will iterate across all fields descriptors in the `participant` table, retrieve the field codes, and save all this information to a CSV file. "
   ]
  },
  {
   "cell_type": "markdown",
   "metadata": {},
   "source": [
    "## Install required packages\n",
    "\n",
    "Function `p_load` from `pacman` loads packages into R.\n",
    "If the given package is missing `p_load` will automatically install it - this can take a considerable amount of time for a package that needs C or FORTRAN code compilation.\n",
    "\n",
    "The following packages are needed to run this notebook:\n",
    "\n",
    "- `reticulate` - R-Python interface, required to use `dxdata` package and allow retrieval of phenotypic data \n",
    "- `dplyr` - tabular data manipulation in R, required for pre-processing, encoding and filtering of phenotypic data\n",
    "- `parallel` - parallel computation in R"
   ]
  },
  {
   "cell_type": "code",
   "execution_count": null,
   "metadata": {
    "tags": [],
    "vscode": {
     "languageId": "r"
    }
   },
   "outputs": [],
   "source": [
    "message('Installing packages...')\n",
    "if(!require(pacman)) install.packages(\"pacman\")\n",
    "pacman::p_load(reticulate, dplyr, parallel)\n",
    "\n",
    "# Set Python environment explicitly\n",
    "reticulate::use_python(\"/opt/conda/bin/python3\", required = TRUE) "
   ]
  },
  {
   "cell_type": "markdown",
   "metadata": {},
   "source": [
    "## Import dxdata package: https://github.com/dnanexus/OpenBio/blob/master/dxdata/getting_started_with_dxdata.ipynb"
   ]
  },
  {
   "cell_type": "code",
   "execution_count": 2,
   "metadata": {
    "tags": [],
    "vscode": {
     "languageId": "r"
    }
   },
   "outputs": [],
   "source": [
    "dxdata <- import(\"dxdata\")"
   ]
  },
  {
   "cell_type": "markdown",
   "metadata": {},
   "source": [
    "## Connect to the dataset\n",
    "\n",
    "Next, we can set a `DATASET_ID` variable, which takes a value: `[projectID]:[dataset ID]`\n",
    "We use it to define the `dataset` with `dxdata.load_dataset` function.\n",
    "\n",
    "**projectID** and **dataset ID** values are unique to your project.\n",
    "Notebook example **101** explains how to get them."
   ]
  },
  {
   "cell_type": "code",
   "execution_count": null,
   "metadata": {
    "tags": [],
    "vscode": {
     "languageId": "r"
    }
   },
   "outputs": [],
   "source": [
    "project <- Sys.getenv('DX_PROJECT_CONTEXT_ID')\n",
    "record <- system(\"dx find data --type Dataset --delimiter ',' | sort -t ',' -k2,2r | head -n1 | awk -F ',' '{print $5}'\", intern = TRUE)\n",
    "DATASET_ID <- paste0(project, \":\", record)\n",
    "dataset <- dxdata$load_dataset(id=DATASET_ID)\n",
    "DATASET_ID"
   ]
  },
  {
   "cell_type": "markdown",
   "metadata": {},
   "source": [
    "## Explore the dataset\n",
    "\n",
    "In this step, we iterate through the tables in the `dataset`, with `lapply` function.\n",
    "We extract table names and short descriptions from dataset metadata. \n",
    "Then we construct a `tibble` object, which can be previewed or exported to tabular format.\n",
    "\n",
    "For example, the `participant` table contains general UK Biobank participant data. \n",
    "Other tables contain specific information, like hospitalization records, \n",
    "death records, GP registration, and COVID-19 results. \n",
    "Different tables might be available in your project - you will see tables associated with fields approved in your application.\n",
    "See more info in UK Biobank Docs [here](https://dnanexus.gitbook.io/uk-biobank-rap/getting-started/working-with-ukb-data)."
   ]
  },
  {
   "cell_type": "code",
   "execution_count": 4,
   "metadata": {
    "tags": [],
    "vscode": {
     "languageId": "r"
    }
   },
   "outputs": [],
   "source": [
    "tables <- as_tibble(do.call(rbind, lapply(dataset$entities_by_name, function(x) {\n",
    "    return(c(\n",
    "        name = x$name, \n",
    "        description = x$entity_description\n",
    "    ))\n",
    "}))) "
   ]
  },
  {
   "cell_type": "code",
   "execution_count": 5,
   "metadata": {
    "tags": [],
    "vscode": {
     "languageId": "r"
    }
   },
   "outputs": [
    {
     "data": {
      "text/html": [
       "<table class=\"dataframe\">\n",
       "<caption>A matrix: 2 × 16 of type chr</caption>\n",
       "<tbody>\n",
       "\t<tr><th scope=row>name</th><td>participant</td><td>death_cause</td><td>hesin</td><td>hesin_critical</td><td>hesin_delivery</td><td>death</td><td>hesin_maternity</td><td>hesin_oper</td><td>hesin_diag</td><td>hesin_psych</td><td>covid19_result_england</td><td>covid19_result_scotland</td><td>covid19_result_wales</td><td>gp_clinical</td><td>gp_registrations</td><td>gp_scripts</td></tr>\n",
       "\t<tr><th scope=row>description</th><td>           </td><td>           </td><td>     </td><td>              </td><td>              </td><td>     </td><td>               </td><td>          </td><td>          </td><td>           </td><td>                      </td><td>                       </td><td>                    </td><td>           </td><td>                </td><td>          </td></tr>\n",
       "</tbody>\n",
       "</table>\n"
      ],
      "text/latex": [
       "A matrix: 2 × 16 of type chr\n",
       "\\begin{tabular}{r|llllllllllllllll}\n",
       "\tname & participant & death\\_cause & hesin & hesin\\_critical & hesin\\_delivery & death & hesin\\_maternity & hesin\\_oper & hesin\\_diag & hesin\\_psych & covid19\\_result\\_england & covid19\\_result\\_scotland & covid19\\_result\\_wales & gp\\_clinical & gp\\_registrations & gp\\_scripts\\\\\n",
       "\tdescription &             &             &       &                &                &       &                 &            &            &             &                        &                         &                      &             &                  &           \\\\\n",
       "\\end{tabular}\n"
      ],
      "text/markdown": [
       "\n",
       "A matrix: 2 × 16 of type chr\n",
       "\n",
       "| name | participant | death_cause | hesin | hesin_critical | hesin_delivery | death | hesin_maternity | hesin_oper | hesin_diag | hesin_psych | covid19_result_england | covid19_result_scotland | covid19_result_wales | gp_clinical | gp_registrations | gp_scripts |\n",
       "| description | <!----> | <!----> | <!----> | <!----> | <!----> | <!----> | <!----> | <!----> | <!----> | <!----> | <!----> | <!----> | <!----> | <!----> | <!----> | <!----> |\n",
       "\n"
      ],
      "text/plain": [
       "            [,1]        [,2]        [,3]  [,4]           [,5]           [,6] \n",
       "name        participant death_cause hesin hesin_critical hesin_delivery death\n",
       "description                                                                  \n",
       "            [,7]            [,8]       [,9]       [,10]      \n",
       "name        hesin_maternity hesin_oper hesin_diag hesin_psych\n",
       "description                                                  \n",
       "            [,11]                  [,12]                   [,13]               \n",
       "name        covid19_result_england covid19_result_scotland covid19_result_wales\n",
       "description                                                                    \n",
       "            [,14]       [,15]            [,16]     \n",
       "name        gp_clinical gp_registrations gp_scripts\n",
       "description                                        "
      ]
     },
     "metadata": {},
     "output_type": "display_data"
    }
   ],
   "source": [
    "t(tables)"
   ]
  },
  {
   "cell_type": "markdown",
   "metadata": {},
   "source": [
    "## Retrieve table metadata\n",
    "\n",
    "The following functions select the `participant` table and retrieve table metadata to local memory.\n",
    "We iterate through the fields in `participant` table with `lapply` function.\n",
    "At each step, we extract name following field information:\n",
    "- title \n",
    "- type\n",
    "- units \n",
    "- path\n",
    "- coding\n",
    "\n",
    "Next, we construct a `tibble` object, which can be previewed or exported to tabular format.\n",
    "\n"
   ]
  },
  {
   "cell_type": "code",
   "execution_count": 6,
   "metadata": {
    "tags": [],
    "vscode": {
     "languageId": "r"
    }
   },
   "outputs": [],
   "source": [
    "pheno <- dataset$entities_by_name[['participant']]"
   ]
  },
  {
   "cell_type": "code",
   "execution_count": 7,
   "metadata": {
    "tags": [],
    "vscode": {
     "languageId": "r"
    }
   },
   "outputs": [],
   "source": [
    "fields_table <- as_tibble(do.call(rbind, mclapply(pheno$fields, function(x) {\n",
    "    \n",
    "    codes <- x$coding$codes\n",
    "    \n",
    "    if(length(codes)) {\n",
    "        coding <- paste(names(codes), ' => ', unlist(codes), collapse = '; ')\n",
    "    } else {\n",
    "        coding <- ''\n",
    "    }\n",
    "    \n",
    "    return(c(\n",
    "        name = x$name, \n",
    "        title = x$title,\n",
    "        type = x$type,\n",
    "        units = paste(x$units, collapse = '; '),\n",
    "        path = paste(x$folder_path, collapse=' -> '),\n",
    "        coding = coding,\n",
    "        linkout = paste(x$linkout, collapse = '; ')\n",
    "    ))\n",
    "}, mc.cores=16))) "
   ]
  },
  {
   "cell_type": "code",
   "execution_count": 8,
   "metadata": {
    "tags": [],
    "vscode": {
     "languageId": "r"
    }
   },
   "outputs": [
    {
     "data": {
      "text/html": [
       "<table class=\"dataframe\">\n",
       "<caption>A tibble: 6 × 7</caption>\n",
       "<thead>\n",
       "\t<tr><th scope=col>name</th><th scope=col>title</th><th scope=col>type</th><th scope=col>units</th><th scope=col>path</th><th scope=col>coding</th><th scope=col>linkout</th></tr>\n",
       "\t<tr><th scope=col>&lt;chr&gt;</th><th scope=col>&lt;chr&gt;</th><th scope=col>&lt;chr&gt;</th><th scope=col>&lt;chr&gt;</th><th scope=col>&lt;chr&gt;</th><th scope=col>&lt;chr&gt;</th><th scope=col>&lt;chr&gt;</th></tr>\n",
       "</thead>\n",
       "<tbody>\n",
       "\t<tr><td>eid  </td><td>Participant ID                        </td><td>string </td><td>       </td><td>Participant Information                                     </td><td></td><td>                                                   </td></tr>\n",
       "\t<tr><td>p3_i0</td><td>Verbal interview duration | Instance 0</td><td>integer</td><td>seconds</td><td>Assessment centre -&gt; Procedural metrics -&gt; Process durations</td><td></td><td>http://biobank.ctsu.ox.ac.uk/crystal/field.cgi?id=3</td></tr>\n",
       "\t<tr><td>p3_i1</td><td>Verbal interview duration | Instance 1</td><td>integer</td><td>seconds</td><td>Assessment centre -&gt; Procedural metrics -&gt; Process durations</td><td></td><td>http://biobank.ctsu.ox.ac.uk/crystal/field.cgi?id=3</td></tr>\n",
       "\t<tr><td>p3_i2</td><td>Verbal interview duration | Instance 2</td><td>integer</td><td>seconds</td><td>Assessment centre -&gt; Procedural metrics -&gt; Process durations</td><td></td><td>http://biobank.ctsu.ox.ac.uk/crystal/field.cgi?id=3</td></tr>\n",
       "\t<tr><td>p3_i3</td><td>Verbal interview duration | Instance 3</td><td>integer</td><td>seconds</td><td>Assessment centre -&gt; Procedural metrics -&gt; Process durations</td><td></td><td>http://biobank.ctsu.ox.ac.uk/crystal/field.cgi?id=3</td></tr>\n",
       "\t<tr><td>p4_i0</td><td><span style=white-space:pre-wrap>Biometrics duration | Instance 0      </span></td><td>integer</td><td>seconds</td><td>Assessment centre -&gt; Procedural metrics -&gt; Process durations</td><td></td><td>http://biobank.ctsu.ox.ac.uk/crystal/field.cgi?id=4</td></tr>\n",
       "</tbody>\n",
       "</table>\n"
      ],
      "text/latex": [
       "A tibble: 6 × 7\n",
       "\\begin{tabular}{lllllll}\n",
       " name & title & type & units & path & coding & linkout\\\\\n",
       " <chr> & <chr> & <chr> & <chr> & <chr> & <chr> & <chr>\\\\\n",
       "\\hline\n",
       "\t eid   & Participant ID                         & string  &         & Participant Information                                      &  &                                                    \\\\\n",
       "\t p3\\_i0 & Verbal interview duration \\textbar{} Instance 0 & integer & seconds & Assessment centre -> Procedural metrics -> Process durations &  & http://biobank.ctsu.ox.ac.uk/crystal/field.cgi?id=3\\\\\n",
       "\t p3\\_i1 & Verbal interview duration \\textbar{} Instance 1 & integer & seconds & Assessment centre -> Procedural metrics -> Process durations &  & http://biobank.ctsu.ox.ac.uk/crystal/field.cgi?id=3\\\\\n",
       "\t p3\\_i2 & Verbal interview duration \\textbar{} Instance 2 & integer & seconds & Assessment centre -> Procedural metrics -> Process durations &  & http://biobank.ctsu.ox.ac.uk/crystal/field.cgi?id=3\\\\\n",
       "\t p3\\_i3 & Verbal interview duration \\textbar{} Instance 3 & integer & seconds & Assessment centre -> Procedural metrics -> Process durations &  & http://biobank.ctsu.ox.ac.uk/crystal/field.cgi?id=3\\\\\n",
       "\t p4\\_i0 & Biometrics duration \\textbar{} Instance 0       & integer & seconds & Assessment centre -> Procedural metrics -> Process durations &  & http://biobank.ctsu.ox.ac.uk/crystal/field.cgi?id=4\\\\\n",
       "\\end{tabular}\n"
      ],
      "text/markdown": [
       "\n",
       "A tibble: 6 × 7\n",
       "\n",
       "| name &lt;chr&gt; | title &lt;chr&gt; | type &lt;chr&gt; | units &lt;chr&gt; | path &lt;chr&gt; | coding &lt;chr&gt; | linkout &lt;chr&gt; |\n",
       "|---|---|---|---|---|---|---|\n",
       "| eid   | Participant ID                         | string  | <!----> | Participant Information                                      | <!----> | <!----> |\n",
       "| p3_i0 | Verbal interview duration | Instance 0 | integer | seconds | Assessment centre -&gt; Procedural metrics -&gt; Process durations | <!----> | http://biobank.ctsu.ox.ac.uk/crystal/field.cgi?id=3 |\n",
       "| p3_i1 | Verbal interview duration | Instance 1 | integer | seconds | Assessment centre -&gt; Procedural metrics -&gt; Process durations | <!----> | http://biobank.ctsu.ox.ac.uk/crystal/field.cgi?id=3 |\n",
       "| p3_i2 | Verbal interview duration | Instance 2 | integer | seconds | Assessment centre -&gt; Procedural metrics -&gt; Process durations | <!----> | http://biobank.ctsu.ox.ac.uk/crystal/field.cgi?id=3 |\n",
       "| p3_i3 | Verbal interview duration | Instance 3 | integer | seconds | Assessment centre -&gt; Procedural metrics -&gt; Process durations | <!----> | http://biobank.ctsu.ox.ac.uk/crystal/field.cgi?id=3 |\n",
       "| p4_i0 | Biometrics duration | Instance 0       | integer | seconds | Assessment centre -&gt; Procedural metrics -&gt; Process durations | <!----> | http://biobank.ctsu.ox.ac.uk/crystal/field.cgi?id=4 |\n",
       "\n"
      ],
      "text/plain": [
       "  name  title                                  type    units  \n",
       "1 eid   Participant ID                         string         \n",
       "2 p3_i0 Verbal interview duration | Instance 0 integer seconds\n",
       "3 p3_i1 Verbal interview duration | Instance 1 integer seconds\n",
       "4 p3_i2 Verbal interview duration | Instance 2 integer seconds\n",
       "5 p3_i3 Verbal interview duration | Instance 3 integer seconds\n",
       "6 p4_i0 Biometrics duration | Instance 0       integer seconds\n",
       "  path                                                         coding\n",
       "1 Participant Information                                            \n",
       "2 Assessment centre -> Procedural metrics -> Process durations       \n",
       "3 Assessment centre -> Procedural metrics -> Process durations       \n",
       "4 Assessment centre -> Procedural metrics -> Process durations       \n",
       "5 Assessment centre -> Procedural metrics -> Process durations       \n",
       "6 Assessment centre -> Procedural metrics -> Process durations       \n",
       "  linkout                                            \n",
       "1                                                    \n",
       "2 http://biobank.ctsu.ox.ac.uk/crystal/field.cgi?id=3\n",
       "3 http://biobank.ctsu.ox.ac.uk/crystal/field.cgi?id=3\n",
       "4 http://biobank.ctsu.ox.ac.uk/crystal/field.cgi?id=3\n",
       "5 http://biobank.ctsu.ox.ac.uk/crystal/field.cgi?id=3\n",
       "6 http://biobank.ctsu.ox.ac.uk/crystal/field.cgi?id=4"
      ]
     },
     "metadata": {},
     "output_type": "display_data"
    }
   ],
   "source": [
    "head(fields_table)"
   ]
  },
  {
   "cell_type": "markdown",
   "metadata": {},
   "source": [
    "## Enumerate coding types\n",
    "\n",
    "The code below tally the columns with each encoding type.\n",
    "There are five data types in `participant` table:\n",
    "\n",
    "- `date` - used to store data\n",
    "- `datetime` - used to store date and time\n",
    "- `double` - used to store real numbers, e.g. participant height\n",
    "- `integer` - used to store categorial encoded values, e.g. participant ethnicity\n",
    "- `string` - used for fields that cannot be expressed on any of the above encodings\n"
   ]
  },
  {
   "cell_type": "code",
   "execution_count": 9,
   "metadata": {
    "tags": [],
    "vscode": {
     "languageId": "r"
    }
   },
   "outputs": [
    {
     "data": {
      "text/plain": [
       "\n",
       "    date datetime   double  integer   string \n",
       "    2004      231     8570    13241     2082 "
      ]
     },
     "metadata": {},
     "output_type": "display_data"
    }
   ],
   "source": [
    "table(fields_table$type)"
   ]
  },
  {
   "cell_type": "markdown",
   "metadata": {},
   "source": [
    "##  Save participant table metadata as an R export file and upload"
   ]
  },
  {
   "cell_type": "code",
   "execution_count": 10,
   "metadata": {
    "tags": [],
    "vscode": {
     "languageId": "r"
    }
   },
   "outputs": [],
   "source": [
    "save(fields_table, file='field_info_tibble_17999x7.Rdata')"
   ]
  },
  {
   "cell_type": "code",
   "execution_count": 11,
   "metadata": {
    "vscode": {
     "languageId": "r"
    }
   },
   "outputs": [],
   "source": [
    "system('dx upload field_info_tibble_17999x7.Rdata --path pheno/')"
   ]
  }
 ],
 "metadata": {
  "kernelspec": {
   "display_name": "R",
   "language": "R",
   "name": "ir"
  },
  "language_info": {
   "codemirror_mode": "r",
   "file_extension": ".r",
   "mimetype": "text/x-r-source",
   "name": "R",
   "pygments_lexer": "r",
   "version": "4.2.2"
  }
 },
 "nbformat": 4,
 "nbformat_minor": 4
}

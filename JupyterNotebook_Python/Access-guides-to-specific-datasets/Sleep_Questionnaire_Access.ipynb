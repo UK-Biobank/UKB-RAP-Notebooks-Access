{
 "cells": [
  {
   "cell_type": "markdown",
   "id": "eebd98ed-0592-4a75-948d-524abed4cc72",
   "metadata": {},
   "source": [
    "# Access the Sleep Questionnaire data\n",
    "This notebook explains how to explore and extract the phenotypic sleep data from the participant data entity on UK Biobank RAP.\n",
    "\n",
    "runtime: 15min\\\n",
    "recommended instance: mem1_ssd1_v2_x8\\\n",
    "cost: <£0.30\\\n",
    "dependencies:\\\n",
    "The [Retrieve-a-single-specific-field-in-this-Notebook](#Retrieve-a-single-specific-field-in-this-Notebook) section of this notebook depends on starting your JupyterNotebook Instance with a **Spark** instance.\n",
    "\n",
    "In this notebook, we will dive into the phenotypic data stored in the Spark database and retrieve the values and meta of the sleep questionnaire data fields."
   ]
  },
  {
   "cell_type": "markdown",
   "id": "630578c6-ecf7-41b8-9850-03c4eb8c5829",
   "metadata": {},
   "source": [
    "### Import dxdata package and initialize Spark engine\n",
    "Docs at: https://github.com/dnanexus/OpenBio/blob/master/dxdata/getting_started_with_dxdata.ipynb"
   ]
  },
  {
   "cell_type": "code",
   "execution_count": null,
   "id": "32ab9cd1-c94f-471e-93d8-8291270b8d00",
   "metadata": {
    "tags": []
   },
   "outputs": [],
   "source": [
    "import dxdata\n",
    "import pandas as pd\n",
    "import os\n",
    "from datetime import datetime"
   ]
  },
  {
   "cell_type": "markdown",
   "id": "f5ff4c0a-99c8-41c8-9dac-5d4ceac8ac70",
   "metadata": {
    "tags": []
   },
   "source": [
    "### Connect to the dataset\n",
    "Next, we can set a DATASET_ID variable, which takes a value: [projectID]:[dataset ID]\\\n",
    "We use it to define the dataset with dxdata.load_dataset function.\n",
    "\n",
    "projectID and dataset ID values are unique to your project. Notebook example 101 explains how to get them."
   ]
  },
  {
   "cell_type": "code",
   "execution_count": null,
   "id": "7b99acdc-8514-431b-99f2-babfc64f9107",
   "metadata": {
    "tags": []
   },
   "outputs": [],
   "source": [
    "project = os.getenv('DX_PROJECT_CONTEXT_ID')\n",
    "record = os.popen(\"dx find data --type Dataset --delimiter ',' | awk -F ',' '{print $5}'\").read().rstrip()\n",
    "DATASET_ID = project + \":\" + record\n",
    "dataset = dxdata.load_dataset(id=DATASET_ID)"
   ]
  },
  {
   "cell_type": "markdown",
   "id": "a06cb288-0969-4771-9194-b2581665b422",
   "metadata": {},
   "source": [
    "### Identify the relevant fields\n",
    "The `field.tsv` file contains detailed meta-data to describe each field. This includes a field title that matches between the data Showcase and the UK Biobank RAP."
   ]
  },
  {
   "cell_type": "code",
   "execution_count": null,
   "id": "a68bf401-95ca-4c38-b0e6-c484b99c45c3",
   "metadata": {
    "tags": []
   },
   "outputs": [],
   "source": [
    "field_file = os.popen(\"dx find data --name 'field.tsv' --brief\").read().rstrip()\n",
    "sys_output = os.popen(\"dx download \" + field_file).read()"
   ]
  },
  {
   "cell_type": "code",
   "execution_count": null,
   "id": "b6bedcd3-6cee-4434-a586-bc8d607737a5",
   "metadata": {
    "tags": []
   },
   "outputs": [],
   "source": [
    "field_table = pd.read_csv('field.tsv', sep='\\t')"
   ]
  },
  {
   "cell_type": "markdown",
   "id": "67af7ea9-8799-4c52-9fe7-3a73f3f94e7d",
   "metadata": {},
   "source": [
    "The subcategories of category 205 include the data from the sleep questionnaire.\n",
    "We've listed the categories here for simplicity but could alternatively be extracted from the catbrowse.tsv file in the Showcase metadata folder of every project"
   ]
  },
  {
   "cell_type": "code",
   "execution_count": null,
   "id": "cc69b2bd-f9b7-43cf-8b2c-728ef8109429",
   "metadata": {
    "tags": []
   },
   "outputs": [],
   "source": [
    "sleep_category_fields = field_table[field_table['main_category'].isin([206, 207, 208, 209, 210, 211, 212, 213, 214, 215, 216])]\n",
    "sleep_category_fields.head()"
   ]
  },
  {
   "cell_type": "markdown",
   "id": "f53cb209-2452-4c3b-82af-4521bfdb5d03",
   "metadata": {},
   "source": [
    "We'll demonstrate two methods for extracting the relevant data.\\\n",
    "First using the field titles.\\\n",
    "Second using the DNAnexus field names. These are structured p\\<ukb file id\\> so  UK Biobank field ID 30427 would become p30427. For more information on Instancing, including the field name structure for fields with multiple instances, see [UKB RAP instancing](https://community.ukbiobank.ac.uk/hc/en-gb/articles/15955986227357-What-is-an-instance-index)."
   ]
  },
  {
   "cell_type": "code",
   "execution_count": null,
   "id": "b94b2d5b-2cc5-4035-b76f-c110c6fd8a36",
   "metadata": {
    "tags": []
   },
   "outputs": [],
   "source": [
    "sleep_category_titles = sleep_category_fields['title']\n",
    "print(sleep_category_titles.iloc[0])\n",
    "\n",
    "sleep_category_field_ids = sleep_category_fields['field_id'].apply(lambda x: 'p' + str(x))\n",
    "sleep_category_field_ids = pd.concat([sleep_category_field_ids, pd.Series(['eid'])], ignore_index=True)\n",
    "\n",
    "print(sleep_category_field_ids.iloc[0])"
   ]
  },
  {
   "cell_type": "markdown",
   "id": "c2fd77f2-35da-4488-bfea-6027a8506800",
   "metadata": {},
   "source": [
    "### Retrieve data"
   ]
  },
  {
   "cell_type": "markdown",
   "id": "dd4692b1-b5b0-49af-9340-be86f3e23884",
   "metadata": {
    "tags": []
   },
   "source": [
    "#### Table exporter method"
   ]
  },
  {
   "cell_type": "markdown",
   "id": "5119f9e7-5e6c-43e6-8a53-163b0a7b61eb",
   "metadata": {},
   "source": [
    "Save the list of relevant fields to a file and save it to your project space so that can be picked up by the table exporter application."
   ]
  },
  {
   "cell_type": "code",
   "execution_count": null,
   "id": "d0153412-f531-44a2-88cc-9e4acde9aab9",
   "metadata": {
    "tags": []
   },
   "outputs": [],
   "source": [
    "timestamp = datetime.now().strftime(\"%Y-%m-%d\")\n",
    "timestamp = timestamp + \"_\" + datetime.now().strftime(\"%H-%M\")\n",
    "filename = f\"sleep_fields_\" + timestamp + \".txt\"\n",
    "\n",
    "sleep_category_field_ids.to_csv(filename, sep = \"\\t\", index = False, header = False)\n",
    "!dx upload sleep_fields_*"
   ]
  },
  {
   "cell_type": "markdown",
   "id": "fb89ed7e-4823-434c-aeda-06d82a4f4642",
   "metadata": {},
   "source": [
    "Further information on the table exporter application can be found here:\\\n",
    "[Table exporter documentation](https://ukbiobank.dnanexus.com/app/table-exporter)"
   ]
  },
  {
   "cell_type": "code",
   "execution_count": null,
   "id": "d4686cb0-3e13-4ad5-8a7c-da94f2b61255",
   "metadata": {
    "tags": []
   },
   "outputs": [],
   "source": [
    "os.popen(f\"dx run table-exporter -idataset_or_cohort_or_dashboard=\" + DATASET_ID + \" -ifield_names_file_txt=\" + filename + \" -ientity=participant -ioutput='sleep_data' -iheader_style=FIELD-NAME\").read()"
   ]
  },
  {
   "cell_type": "markdown",
   "id": "8f6a305a-d8e1-452e-bebd-e1e425010f45",
   "metadata": {
    "tags": []
   },
   "source": [
    "#### Retrieve a single specific field in this Notebook - Spark Instance dependent"
   ]
  },
  {
   "cell_type": "markdown",
   "id": "ad429aa3-c089-4ed4-8d53-8cce3698b1ad",
   "metadata": {},
   "source": [
    "The following code selects the participant table. Then we can define which field we are interested in using the find_field function.\n",
    "Here, we are using the title filter in the find_field function to list the fields which are relevant to us.\n",
    "\n",
    "Notebook A103 describes alternative methods for finding relevant fields.\n",
    "\n",
    "*Warning* - the sleep questionnaire data contains a field title with quotations in. This is likely to cause issues with this data. The table exporter method is not affected by this issue."
   ]
  },
  {
   "cell_type": "code",
   "execution_count": null,
   "id": "54f90a9c-2161-4ce5-8387-efde46ab57fc",
   "metadata": {
    "tags": []
   },
   "outputs": [],
   "source": [
    "# Initialize dxdata engine\n",
    "engine = dxdata.connect(dialect=\"hive+pyspark\")\n",
    "pheno = dataset['participant']"
   ]
  },
  {
   "cell_type": "code",
   "execution_count": null,
   "id": "391b419b-f9df-4628-b283-46818945fb12",
   "metadata": {
    "tags": []
   },
   "outputs": [],
   "source": [
    "field_eid = pheno.find_field(name=\"eid\")\n",
    "\n",
    "field_sleep = pheno.find_field(title=sleep_category_titles.iloc[0])\n",
    "\n",
    "field_list = [field_eid, field_sleep]\n",
    "field_list"
   ]
  },
  {
   "cell_type": "code",
   "execution_count": null,
   "id": "727b3a64-b85f-4b97-90aa-a936b768ddf6",
   "metadata": {
    "tags": []
   },
   "outputs": [],
   "source": [
    "## this will only work if your instance is Spark enabled\n",
    "pheno_data = pheno.retrieve_fields(engine=engine, fields=field_list, coding_values=\"replace\")"
   ]
  },
  {
   "cell_type": "markdown",
   "id": "1fade86f-c0b3-4e78-8998-338b14098304",
   "metadata": {},
   "source": [
    "#### Translate the output in order to print to file"
   ]
  },
  {
   "cell_type": "code",
   "execution_count": null,
   "id": "df6f0a9c-a2aa-49dd-8905-cb7b7d16f0c0",
   "metadata": {
    "tags": []
   },
   "outputs": [],
   "source": [
    "data_tab = pheno_data.toPandas()"
   ]
  },
  {
   "cell_type": "code",
   "execution_count": null,
   "id": "17f2aef9-3353-4778-8b94-9816cc30c5ba",
   "metadata": {
    "tags": []
   },
   "outputs": [],
   "source": [
    "data_tab.head()"
   ]
  },
  {
   "cell_type": "code",
   "execution_count": null,
   "id": "ea5d5ebd-00e7-4445-aea8-ba737b2d16d9",
   "metadata": {},
   "outputs": [],
   "source": [
    "data_tab.to_csv('pheno_sleep_data.csv')"
   ]
  }
 ],
 "metadata": {
  "kernelspec": {
   "display_name": "Python 3 (ipykernel)",
   "language": "python",
   "name": "python3"
  },
  "language_info": {
   "codemirror_mode": {
    "name": "ipython",
    "version": 3
   },
   "file_extension": ".py",
   "mimetype": "text/x-python",
   "name": "python",
   "nbconvert_exporter": "python",
   "pygments_lexer": "ipython3",
   "version": "3.11.5"
  }
 },
 "nbformat": 4,
 "nbformat_minor": 5
}
